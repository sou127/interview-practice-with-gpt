{
  "nbformat": 4,
  "nbformat_minor": 0,
  "metadata": {
    "colab": {
      "provenance": []
    },
    "kernelspec": {
      "name": "python3",
      "display_name": "Python 3"
    },
    "language_info": {
      "name": "python"
    }
  },
  "cells": [
    {
      "cell_type": "markdown",
      "source": [
        "# Development of a Practice System for Job Interview (PSJI) using LLM"
      ],
      "metadata": {
        "id": "VycP4gsjHmCp"
      }
    },
    {
      "cell_type": "markdown",
      "source": [
        "## Contents"
      ],
      "metadata": {
        "id": "h1bAmKuR8KKj"
      }
    },
    {
      "cell_type": "markdown",
      "source": [
        ">[Development of a Practice System for Job Interview (PSJI) using LLM](#scrollTo=VycP4gsjHmCp)\n",
        "\n",
        ">>[Contents](#scrollTo=h1bAmKuR8KKj)\n",
        "\n",
        ">>[Installing required libraries](#scrollTo=9lODnqus6-8U)\n",
        "\n",
        ">>[GPT-3.5 Turbo](#scrollTo=2iI1aqS67H9w)\n",
        "\n",
        ">>[Fine-tuning GPT-3 Turbo](#scrollTo=rfk6ySB67ME_)\n",
        "\n",
        ">>>[Prepare Data](#scrollTo=fIyTVBR5I66Q)\n",
        "\n",
        ">>>[Upload files](#scrollTo=MO5HkqpuJTYe)\n",
        "\n",
        ">>>[Create a fine-tuning job](#scrollTo=0pBGW_OlJKyH)\n",
        "\n",
        ">>>[Use fine-tuned module](#scrollTo=aeZOaacmKMxT)\n",
        "\n",
        ">>[GPT-4](#scrollTo=LofpL_gu7QFB)\n",
        "\n",
        ">>[Evaluations](#scrollTo=rEu04CGUqRjQ)\n",
        "\n"
      ],
      "metadata": {
        "colab_type": "toc",
        "id": "R0LW6RhK8H6l"
      }
    },
    {
      "cell_type": "markdown",
      "source": [
        "## Installing required libraries"
      ],
      "metadata": {
        "id": "9lODnqus6-8U"
      }
    },
    {
      "cell_type": "code",
      "source": [
        "!pip install openai tensorrt\n",
        "!pip install spacy scikit-learn\n",
        "!python -m spacy download en_core_web_md\n",
        "!pip install --upgrade urllib3\n",
        "!pip install bert-score"
      ],
      "metadata": {
        "id": "MijXdzey05cg"
      },
      "execution_count": null,
      "outputs": []
    },
    {
      "cell_type": "code",
      "source": [
        "import openai\n",
        "import pandas as pd\n",
        "import json\n",
        "import spacy\n",
        "from sklearn.metrics.pairwise import cosine_similarity\n",
        "import warnings\n",
        "warnings.filterwarnings('ignore')"
      ],
      "metadata": {
        "id": "338HmfzO7cSe"
      },
      "execution_count": null,
      "outputs": []
    },
    {
      "cell_type": "markdown",
      "source": [
        "## GPT-3.5 Turbo"
      ],
      "metadata": {
        "id": "2iI1aqS67H9w"
      }
    },
    {
      "cell_type": "code",
      "source": [
        "system_prompt = '''You are a job interviewer.\n",
        "                You will provide feedback on user's answers to your questions.\n",
        "                Provide the feedback in two parts:\n",
        "                1. Good feedback 2. To improve '''\n",
        "\n",
        "assistant_prompt = \"How do you handle receiving constructive criticism?\"\n",
        "user_response = \"I view constructive criticism as an opportunity to grow and improve. I always listen attentively to feedback, reflect on it, and work on implementing the suggested improvements. I also appreciate open communication and believe it fosters a collaborative and productive work environment.\"\n",
        "reference = \"Good feedback: The answer demonstrates a positive and receptive attitude towards constructive criticism. Shows a proactive approach to personal growth and development. To improve: Could mention a specific example of a time when they received and successfully implemented constructive criticism. Might discuss how they encourage and facilitate feedback from colleagues or superiors.\""
      ],
      "metadata": {
        "id": "BEiSaRib75Ty"
      },
      "execution_count": null,
      "outputs": []
    },
    {
      "cell_type": "code",
      "source": [
        "results = openai.ChatCompletion.create(\n",
        "  model=\"gpt-3.5-turbo\",\n",
        "  temperature = 0.2,\n",
        "  top_p = 0.1,\n",
        "  messages=[\n",
        "        {\"role\": \"system\", \"content\": system_prompt},\n",
        "        {\"role\": \"assistant\", \"content\": prompt},\n",
        "        {\"role\": \"user\", \"content\": content_string},\n",
        "    ]\n",
        ")\n",
        "\n",
        "feedback_hypothesis_non_tuned = results[\"choices\"][0][\"message\"][\"content\"]"
      ],
      "metadata": {
        "id": "eYRWCmlssbfc"
      },
      "execution_count": null,
      "outputs": []
    },
    {
      "cell_type": "markdown",
      "source": [
        "## Fine-tuning GPT-3 Turbo"
      ],
      "metadata": {
        "id": "rfk6ySB67ME_"
      }
    },
    {
      "cell_type": "markdown",
      "source": [
        "### 1. Prepare Data"
      ],
      "metadata": {
        "id": "fIyTVBR5I66Q"
      }
    },
    {
      "cell_type": "code",
      "source": [
        "# Load the CSV dataset into a pandas DataFrame\n",
        "df = pd.read_csv('interview_dataset.csv', encoding='utf-8')\n",
        "\n",
        "# Initialize an empty list to store the JSON objects\n",
        "json_objects = []\n",
        "\n",
        "# Iterate through each row in the DataFrame\n",
        "for index, row in df.iterrows():\n",
        "    # Create a dictionary in the desired format\n",
        "    json_dict = {\n",
        "        \"messages\": [\n",
        "            { \"role\": \"system\", \"content\": f\"You are a job interviewer. You will provide feedback on user's answers to your questions. You have asked this question: {row['Question']}. Provide the feedback in two parts: 1. Good feedback 2. To improve \" },\n",
        "            { \"role\": \"user\", \"content\": row['Answer'] },\n",
        "            { \"role\": \"assistant\", \"content\": row['Feedback'] }\n",
        "        ]\n",
        "    }\n",
        "\n",
        "    # Append the dictionary to the list\n",
        "    json_objects.append(json_dict)\n",
        "\n",
        "# Specify the output JSONL file\n",
        "jsonl_file = 'processed_data.jsonl'\n",
        "\n",
        "# Write the list of JSON objects to the JSONL file\n",
        "with open(jsonl_file, 'w', encoding='utf-8') as jsonlfile:\n",
        "    for json_obj in json_objects:\n",
        "        # Serialize the dictionary to a JSON string and write it to the JSONL file\n",
        "        jsonlfile.write(json.dumps(json_obj, ensure_ascii=False) + '\\n')\n",
        "\n",
        "print(f\"Conversion completed. JSONL file saved as '{jsonl_file}'.\")\n"
      ],
      "metadata": {
        "colab": {
          "base_uri": "https://localhost:8080/"
        },
        "id": "3Z922UqqIUPS",
        "outputId": "1f005f88-c89c-47fb-e04b-81d978cc4944"
      },
      "execution_count": null,
      "outputs": [
        {
          "output_type": "stream",
          "name": "stdout",
          "text": [
            "Conversion completed. JSONL file saved as 'processed_data.jsonl'.\n"
          ]
        }
      ]
    },
    {
      "cell_type": "markdown",
      "source": [
        "### 2. Upload files"
      ],
      "metadata": {
        "id": "MO5HkqpuJTYe"
      }
    },
    {
      "cell_type": "code",
      "source": [
        "def open_file(filepath):\n",
        "  with open(filepath, 'r', encoding='utf-8') as infile:\n",
        "    return infile.read()\n",
        "\n",
        "def save_file(filepath, content):\n",
        "  with open(filepath, 'a', encoding='utf-8') as outfile:\n",
        "    outfile.write(content)"
      ],
      "metadata": {
        "id": "0WnjvSbUJiXs"
      },
      "execution_count": null,
      "outputs": []
    },
    {
      "cell_type": "code",
      "source": [
        "api_key = open_file('apikey.txt')\n",
        "openai.api_key = api_key"
      ],
      "metadata": {
        "id": "T4zNrBVaGqYy"
      },
      "execution_count": null,
      "outputs": []
    },
    {
      "cell_type": "code",
      "source": [
        "with open('processed_data.jsonl', 'rb') as file:\n",
        "  response = openai.File.create(\n",
        "      file=file,\n",
        "      purpose='fine-tune'\n",
        "  )\n",
        "file_id = response['id']"
      ],
      "metadata": {
        "id": "lr--0i6cJmnY"
      },
      "execution_count": null,
      "outputs": []
    },
    {
      "cell_type": "code",
      "source": [
        "print(f'File uploaded with ID: {file_id}')"
      ],
      "metadata": {
        "colab": {
          "base_uri": "https://localhost:8080/"
        },
        "id": "OCcEWF5BHqeP",
        "outputId": "786e9a6b-cc3b-46cd-9c65-3df7cf1f67a4"
      },
      "execution_count": null,
      "outputs": [
        {
          "output_type": "stream",
          "name": "stdout",
          "text": [
            "File uploaded with ID: file-t4tDVbPBaecptDAcRj0uplYO\n"
          ]
        }
      ]
    },
    {
      "cell_type": "markdown",
      "source": [
        "### 3. Create a fine-tuning job"
      ],
      "metadata": {
        "id": "0pBGW_OlJKyH"
      }
    },
    {
      "cell_type": "code",
      "source": [
        "response = openai.FineTuningJob.create(\n",
        "    training_file=file_id,\n",
        "    model='gpt-3.5-turbo'\n",
        ")\n",
        "\n",
        "job_id = response['id']\n",
        "print(f'Fine-tuning job created successfully with ID: {job_id}')"
      ],
      "metadata": {
        "id": "5ZzHcDyGJtoR"
      },
      "execution_count": null,
      "outputs": []
    },
    {
      "cell_type": "code",
      "source": [
        "job_id = 'ftjob-8hsMvJ0JczaXVnIXakWNSYw2'"
      ],
      "metadata": {
        "id": "qqiNpPBnKKS9"
      },
      "execution_count": null,
      "outputs": []
    },
    {
      "cell_type": "markdown",
      "source": [
        "### 4. Use fine-tuned module"
      ],
      "metadata": {
        "id": "aeZOaacmKMxT"
      }
    },
    {
      "cell_type": "code",
      "source": [
        "results = openai.ChatCompletion.create(\n",
        "  model=\"ft:gpt-3.5-turbo-0613:personal::7xER4tHy\",\n",
        "  temperature = 0.2,\n",
        "  top_p = 0.1,\n",
        "  messages=[\n",
        "        {\"role\": \"system\", \"content\": system_prompt},\n",
        "        {\"role\": \"assistant\", \"content\": prompt},\n",
        "        {\"role\": \"user\", \"content\": content_string},\n",
        "    ]\n",
        ")\n",
        "\n",
        "feedback_hypothesis_fine_tuned = results[\"choices\"][0][\"message\"][\"content\"]"
      ],
      "metadata": {
        "id": "AsSBTJk1pLBy"
      },
      "execution_count": null,
      "outputs": []
    },
    {
      "cell_type": "markdown",
      "source": [
        "## Analyzing Feedback"
      ],
      "metadata": {
        "id": "LofpL_gu7QFB"
      }
    },
    {
      "cell_type": "code",
      "source": [
        "def format_feedback(text):\n",
        "    lines = text.split('.')  # Split the input text into lines\n",
        "    lines.pop()\n",
        "    feeds = \"\"\n",
        "    for line in lines:\n",
        "      feed = line.rstrip(' ').lstrip(' ')\n",
        "      if 'Good feedback:' in feed:\n",
        "        feeds += 'Good feedback: \\n'\n",
        "        feeds += '・' + str(feed.split(': ')[1]) +'\\n'\n",
        "      elif 'To improve:' in feed:\n",
        "        feeds += 'To improve: \\n'\n",
        "        feeds += '・' + str(feed.split(': ')[1]) + '\\n'\n",
        "      else:\n",
        "        feeds += '・' + feed + '\\n'\n",
        "    return feeds"
      ],
      "metadata": {
        "id": "bj1sae9mpPyu"
      },
      "execution_count": null,
      "outputs": []
    },
    {
      "cell_type": "code",
      "source": [
        "formatted_feedback = format_feedback(results[\"choices\"][0][\"message\"][\"content\"])\n",
        "print(formatted_feedback)"
      ],
      "metadata": {
        "colab": {
          "base_uri": "https://localhost:8080/"
        },
        "id": "R8wFoc_cpSDL",
        "outputId": "2a81871e-2663-4ea8-b326-4578e41a41c9"
      },
      "execution_count": null,
      "outputs": [
        {
          "output_type": "stream",
          "name": "stdout",
          "text": [
            "Good feedback: \n",
            "・The answer demonstrates a positive and proactive approach to receiving constructive criticism\n",
            "・Highlights a willingness to learn and grow from feedback\n",
            "To improve: \n",
            "・Could mention a specific example of how they have applied constructive criticism in the past\n",
            "・Might add a brief mention of how they provide feedback to others, showcasing a well-rounded approach to communication\n",
            "\n"
          ]
        }
      ]
    },
    {
      "cell_type": "markdown",
      "source": [
        "## Evaluations"
      ],
      "metadata": {
        "id": "rEu04CGUqRjQ"
      }
    },
    {
      "cell_type": "code",
      "source": [
        "# Load the spaCy model\n",
        "nlp = spacy.load(\"en_core_web_md\")\n",
        "\n",
        "# Process the sentences using spaCy\n",
        "doc_reference = nlp(reference)\n",
        "doc_gpt35 = nlp(feedback_hypothesis_non_tuned)\n",
        "doc_gpt35tuned = nlp(feedback_hypothesis_fine_tuned)\n",
        "doc_gpt4 = nlp(feedback_hypothesis_gpt4)\n",
        "\n",
        "# Calculate the cosine similarity between sentence vectors\n",
        "similarity_score_gpt35 = cosine_similarity([doc_reference.vector], [doc_gpt35.vector])[0][0]\n",
        "similarity_score_gpt35tuned = cosine_similarity([doc_reference.vector], [doc_gpt35tuned.vector])[0][0]\n",
        "similarity_score_gpt4 = cosine_similarity([doc_reference.vector], [doc_gpt4.vector])[0][0]\n",
        "\n",
        "print(f\"Similarity Score: {similarity_score_gpt35}\")\n",
        "print(f\"Similarity Score: {similarity_score_gpt35tuned}\")\n",
        "print(f\"Similarity Score: {similarity_score_gpt4}\")"
      ],
      "metadata": {
        "colab": {
          "base_uri": "https://localhost:8080/"
        },
        "id": "Am3_ony-sr7T",
        "outputId": "08f07c4c-92b8-43c4-9af9-71317727834f"
      },
      "execution_count": null,
      "outputs": [
        {
          "output_type": "stream",
          "name": "stdout",
          "text": [
            "Similarity Score: 0.9717057347297668\n",
            "Similarity Score: 0.9781246185302734\n",
            "Similarity Score: 0.9602669477462769\n"
          ]
        }
      ]
    },
    {
      "cell_type": "code",
      "source": [
        "!bert-score -r /content/data/reference.txt -c /content/data/feedback_hypothesis_fine_tuned.txt --lang en"
      ],
      "metadata": {
        "colab": {
          "base_uri": "https://localhost:8080/"
        },
        "id": "jQr0o3--xy6Y",
        "outputId": "593523c7-b33f-4688-d055-e462b382db7f"
      },
      "execution_count": null,
      "outputs": [
        {
          "output_type": "stream",
          "name": "stdout",
          "text": [
            "2023-09-10 16:42:35.035404: W tensorflow/compiler/tf2tensorrt/utils/py_utils.cc:38] TF-TRT Warning: Could not find TensorRT\n",
            "Some weights of RobertaModel were not initialized from the model checkpoint at roberta-large and are newly initialized: ['roberta.pooler.dense.bias', 'roberta.pooler.dense.weight']\n",
            "You should probably TRAIN this model on a down-stream task to be able to use it for predictions and inference.\n",
            "roberta-large_L17_no-idf_version=0.3.12(hug_trans=4.33.1)_fast-tokenizer P: 0.943326 R: 0.951863 F1: 0.947575\n"
          ]
        }
      ]
    },
    {
      "cell_type": "code",
      "source": [
        "!bert-score -r /content/data/reference.txt -c /content/data/feedback_hypothesis_non_tuned.txt --lang en"
      ],
      "metadata": {
        "colab": {
          "base_uri": "https://localhost:8080/"
        },
        "id": "ogMzajxWzAr6",
        "outputId": "3f71e0bb-c2eb-4314-dabf-3063e197bc8d"
      },
      "execution_count": null,
      "outputs": [
        {
          "output_type": "stream",
          "name": "stdout",
          "text": [
            "2023-09-10 15:53:45.366056: W tensorflow/compiler/tf2tensorrt/utils/py_utils.cc:38] TF-TRT Warning: Could not find TensorRT\n",
            "Some weights of RobertaModel were not initialized from the model checkpoint at roberta-large and are newly initialized: ['roberta.pooler.dense.bias', 'roberta.pooler.dense.weight']\n",
            "You should probably TRAIN this model on a down-stream task to be able to use it for predictions and inference.\n",
            "roberta-large_L17_no-idf_version=0.3.12(hug_trans=4.33.1)_fast-tokenizer P: 0.893636 R: 0.898526 F1: 0.896074\n"
          ]
        }
      ]
    },
    {
      "cell_type": "code",
      "source": [
        "!bert-score -r /content/data/reference.txt -c /content/data/feedback_gpt4.txt --lang en"
      ],
      "metadata": {
        "colab": {
          "base_uri": "https://localhost:8080/"
        },
        "id": "zQ-5zNdo2Ec3",
        "outputId": "c0623771-9977-40bb-d5e6-e53bc9f478ab"
      },
      "execution_count": null,
      "outputs": [
        {
          "output_type": "stream",
          "name": "stdout",
          "text": [
            "2023-09-10 16:09:47.581757: W tensorflow/compiler/tf2tensorrt/utils/py_utils.cc:38] TF-TRT Warning: Could not find TensorRT\n",
            "Some weights of RobertaModel were not initialized from the model checkpoint at roberta-large and are newly initialized: ['roberta.pooler.dense.bias', 'roberta.pooler.dense.weight']\n",
            "You should probably TRAIN this model on a down-stream task to be able to use it for predictions and inference.\n",
            "roberta-large_L17_no-idf_version=0.3.12(hug_trans=4.33.1)_fast-tokenizer P: 0.875962 R: 0.923553 F1: 0.899128\n"
          ]
        }
      ]
    }
  ]
}